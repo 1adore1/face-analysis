{
  "cells": [
    {
      "cell_type": "code",
      "execution_count": 1,
      "metadata": {
        "id": "Oldrw7ijxl2-"
      },
      "outputs": [],
      "source": [
        "import pandas as pd\n",
        "import numpy as np\n",
        "import matplotlib.pyplot as plt\n",
        "import torch\n",
        "import torchvision\n",
        "from torch import nn\n",
        "import torch.nn.functional as F\n",
        "from torch.utils.data import DataLoader, TensorDataset\n",
        "from tqdm import tqdm"
      ]
    },
    {
      "cell_type": "code",
      "execution_count": 2,
      "metadata": {
        "colab": {
          "base_uri": "https://localhost:8080/"
        },
        "id": "pOtE2Z2Fx60K",
        "outputId": "daa1100f-bc64-46b4-bfb4-f33ac7ecb8f3"
      },
      "outputs": [
        {
          "name": "stdout",
          "output_type": "stream",
          "text": [
            "Mounted at /content/gdrive\n"
          ]
        }
      ],
      "source": [
        "from google.colab import drive\n",
        "drive.mount('/content/gdrive')"
      ]
    },
    {
      "cell_type": "code",
      "execution_count": 3,
      "metadata": {
        "colab": {
          "base_uri": "https://localhost:8080/"
        },
        "id": "nKt9RAx73Qgq",
        "outputId": "d23bce34-09de-4d17-cb95-9d73bca19f01"
      },
      "outputs": [
        {
          "data": {
            "text/plain": [
              "device(type='cuda')"
            ]
          },
          "execution_count": 3,
          "metadata": {},
          "output_type": "execute_result"
        }
      ],
      "source": [
        "device = torch.device('cuda')\n",
        "device"
      ]
    },
    {
      "cell_type": "code",
      "execution_count": 4,
      "metadata": {
        "id": "bTmZjEGuyWOs"
      },
      "outputs": [],
      "source": [
        "df = pd.read_csv('/content/gdrive/My Drive/age_gender.csv')\n",
        "\n",
        "df['pixels'] = df['pixels'].apply(lambda x: np.fromstring(x, sep=' ', dtype='float32'))\n",
        "\n",
        "train_size = int(df.shape[0] * 0.7)\n",
        "df = df.sample(frac=1)\n",
        "train_df = df.iloc[:train_size]\n",
        "test_df = df.iloc[train_size:]\n",
        "\n",
        "X_train = torch.from_numpy(np.vstack(train_df['pixels'].values / 255)).view(-1, 48, 48).unsqueeze(1)\n",
        "X_test = torch.from_numpy(np.vstack(test_df['pixels'].values / 255)).view(-1, 48, 48).unsqueeze(1)"
      ]
    },
    {
      "cell_type": "code",
      "execution_count": 5,
      "metadata": {
        "id": "ODezrenL0GZb"
      },
      "outputs": [],
      "source": [
        "# age prediction\n",
        "y_train = train_df['age'].values\n",
        "y_test = test_df['age'].values\n",
        "y_train = torch.from_numpy(y_train).unsqueeze(1).float()\n",
        "y_test = torch.from_numpy(y_test).unsqueeze(1).float()"
      ]
    },
    {
      "cell_type": "code",
      "execution_count": 6,
      "metadata": {
        "colab": {
          "base_uri": "https://localhost:8080/",
          "height": 448
        },
        "id": "l5_TK1xe3Qgt",
        "outputId": "1eebc835-f923-4e4d-b846-d975f43b1f06"
      },
      "outputs": [
        {
          "data": {
            "text/plain": [
              "tensor([4.])"
            ]
          },
          "execution_count": 6,
          "metadata": {},
          "output_type": "execute_result"
        },
        {
          "data": {
            "image/png": "[encoded data removed]",
            "text/plain": [
              "<Figure size 640x480 with 1 Axes>"
            ]
          },
          "metadata": {},
          "output_type": "display_data"
        }
      ],
      "source": [
        "plt.imshow(X_train[33].squeeze(0), cmap='Greys')\n",
        "y_train[33]"
      ]
    },
    {
      "cell_type": "code",
      "execution_count": 7,
      "metadata": {
        "id": "j9ofB_0y-STi"
      },
      "outputs": [],
      "source": [
        "train_dataset = TensorDataset(X_train, y_train)\n",
        "test_dataset = TensorDataset(X_test, y_test)\n",
        "\n",
        "train_loader = DataLoader(train_dataset, batch_size=32, shuffle=True)\n",
        "test_loader = DataLoader(test_dataset, batch_size=32, shuffle=False)"
      ]
    },
    {
      "cell_type": "code",
      "execution_count": 8,
      "metadata": {
        "colab": {
          "base_uri": "https://localhost:8080/"
        },
        "id": "jKisd2rMB3jt",
        "outputId": "9a39435f-9635-4c59-daa1-2161907e47d6"
      },
      "outputs": [
        {
          "name": "stdout",
          "output_type": "stream",
          "text": [
            "torch.Size([32, 1, 48, 48]) torch.Size([32, 1])\n"
          ]
        }
      ],
      "source": [
        "for img, label in train_loader:\n",
        "    print(img.shape, label.shape)\n",
        "    break"
      ]
    },
    {
      "cell_type": "code",
      "execution_count": 14,
      "metadata": {
        "colab": {
          "base_uri": "https://localhost:8080/"
        },
        "id": "eK7gxGUuCGiI",
        "outputId": "184b7959-c103-4ebe-c0ae-f7f5c81253c7"
      },
      "outputs": [
        {
          "data": {
            "text/plain": [
              "Sequential(\n",
              "  (0): Conv2d(1, 64, kernel_size=(3, 3), stride=(1, 1), padding=(1, 1))\n",
              "  (1): BatchNorm2d(64, eps=1e-05, momentum=0.1, affine=True, track_running_stats=True)\n",
              "  (2): ReLU()\n",
              "  (3): MaxPool2d(kernel_size=2, stride=2, padding=0, dilation=1, ceil_mode=False)\n",
              "  (4): Conv2d(64, 128, kernel_size=(3, 3), stride=(1, 1), padding=(1, 1))\n",
              "  (5): BatchNorm2d(128, eps=1e-05, momentum=0.1, affine=True, track_running_stats=True)\n",
              "  (6): ReLU()\n",
              "  (7): MaxPool2d(kernel_size=2, stride=2, padding=0, dilation=1, ceil_mode=False)\n",
              "  (8): Conv2d(128, 256, kernel_size=(3, 3), stride=(1, 1), padding=(1, 1))\n",
              "  (9): BatchNorm2d(256, eps=1e-05, momentum=0.1, affine=True, track_running_stats=True)\n",
              "  (10): ReLU()\n",
              "  (11): MaxPool2d(kernel_size=2, stride=2, padding=0, dilation=1, ceil_mode=False)\n",
              "  (12): Flatten(start_dim=1, end_dim=-1)\n",
              "  (13): Linear(in_features=9216, out_features=1024, bias=True)\n",
              "  (14): BatchNorm1d(1024, eps=1e-05, momentum=0.1, affine=True, track_running_stats=True)\n",
              "  (15): ReLU()\n",
              "  (16): Dropout(p=0.5, inplace=False)\n",
              "  (17): Linear(in_features=1024, out_features=512, bias=True)\n",
              "  (18): BatchNorm1d(512, eps=1e-05, momentum=0.1, affine=True, track_running_stats=True)\n",
              "  (19): ReLU()\n",
              "  (20): Dropout(p=0.5, inplace=False)\n",
              "  (21): Linear(in_features=512, out_features=1, bias=True)\n",
              ")"
            ]
          },
          "execution_count": 14,
          "metadata": {},
          "output_type": "execute_result"
        }
      ],
      "source": [
        "model = nn.Sequential(\n",
        "    nn.Conv2d(in_channels=1, out_channels=64, kernel_size=3, padding=1),\n",
        "    nn.BatchNorm2d(64),\n",
        "    nn.ReLU(),\n",
        "    nn.MaxPool2d(kernel_size=2, stride=2),\n",
        "\n",
        "    nn.Conv2d(in_channels=64, out_channels=128, kernel_size=3, padding=1),\n",
        "    nn.BatchNorm2d(128),\n",
        "    nn.ReLU(),\n",
        "    nn.MaxPool2d(kernel_size=2, stride=2),\n",
        "\n",
        "    nn.Conv2d(in_channels=128, out_channels=256, kernel_size=3, padding=1),\n",
        "    nn.BatchNorm2d(256),\n",
        "    nn.ReLU(),\n",
        "    nn.MaxPool2d(kernel_size=2, stride=2),\n",
        "\n",
        "    nn.Flatten(),\n",
        "\n",
        "    nn.Linear(256 * 6 * 6, 1024),\n",
        "    nn.BatchNorm1d(1024),\n",
        "    nn.ReLU(),\n",
        "    nn.Dropout(0.5),\n",
        "\n",
        "    nn.Linear(1024, 512),\n",
        "    nn.BatchNorm1d(512),\n",
        "    nn.ReLU(),\n",
        "    nn.Dropout(0.5),\n",
        "\n",
        "    nn.Linear(512, 1),\n",
        ")\n",
        "\n",
        "model.to(device)"
      ]
    },
    {
      "cell_type": "code",
      "execution_count": 15,
      "metadata": {
        "colab": {
          "base_uri": "https://localhost:8080/"
        },
        "id": "YvUbsGYbCZIi",
        "outputId": "42962f05-e9ea-45c5-904b-83acf5982ff5"
      },
      "outputs": [
        {
          "name": "stderr",
          "output_type": "stream",
          "text": [
            "100%|██████████| 519/519 [00:05<00:00, 93.89it/s]\n",
            "100%|██████████| 223/223 [00:00<00:00, 347.46it/s]\n"
          ]
        },
        {
          "name": "stdout",
          "output_type": "stream",
          "text": [
            "epoch [1/30], train loss: 296.3901, test loss: 105.8185\n",
            "best model saved\n"
          ]
        },
        {
          "name": "stderr",
          "output_type": "stream",
          "text": [
            "100%|██████████| 519/519 [00:05<00:00, 94.19it/s]\n",
            "100%|██████████| 223/223 [00:00<00:00, 347.52it/s]\n"
          ]
        },
        {
          "name": "stdout",
          "output_type": "stream",
          "text": [
            "epoch [2/30], train loss: 116.4243, test loss: 94.1312\n",
            "best model saved\n"
          ]
        },
        {
          "name": "stderr",
          "output_type": "stream",
          "text": [
            "100%|██████████| 519/519 [00:05<00:00, 95.22it/s]\n",
            "100%|██████████| 223/223 [00:00<00:00, 345.85it/s]\n"
          ]
        },
        {
          "name": "stdout",
          "output_type": "stream",
          "text": [
            "epoch [3/30], train loss: 97.9208, test loss: 90.0982\n",
            "best model saved\n"
          ]
        },
        {
          "name": "stderr",
          "output_type": "stream",
          "text": [
            "100%|██████████| 519/519 [00:06<00:00, 75.15it/s]\n",
            "100%|██████████| 223/223 [00:00<00:00, 348.27it/s]\n"
          ]
        },
        {
          "name": "stdout",
          "output_type": "stream",
          "text": [
            "epoch [4/30], train loss: 85.4998, test loss: 161.1476\n"
          ]
        },
        {
          "name": "stderr",
          "output_type": "stream",
          "text": [
            "100%|██████████| 519/519 [00:05<00:00, 94.89it/s]\n",
            "100%|██████████| 223/223 [00:00<00:00, 265.95it/s]\n"
          ]
        },
        {
          "name": "stdout",
          "output_type": "stream",
          "text": [
            "epoch [5/30], train loss: 75.8985, test loss: 80.1939\n",
            "best model saved\n"
          ]
        },
        {
          "name": "stderr",
          "output_type": "stream",
          "text": [
            "100%|██████████| 519/519 [00:06<00:00, 85.87it/s]\n",
            "100%|██████████| 223/223 [00:00<00:00, 343.33it/s]\n"
          ]
        },
        {
          "name": "stdout",
          "output_type": "stream",
          "text": [
            "epoch [6/30], train loss: 66.4659, test loss: 83.6944\n"
          ]
        },
        {
          "name": "stderr",
          "output_type": "stream",
          "text": [
            "100%|██████████| 519/519 [00:05<00:00, 94.88it/s]\n",
            "100%|██████████| 223/223 [00:00<00:00, 347.67it/s]\n"
          ]
        },
        {
          "name": "stdout",
          "output_type": "stream",
          "text": [
            "epoch [7/30], train loss: 63.6317, test loss: 95.3406\n"
          ]
        },
        {
          "name": "stderr",
          "output_type": "stream",
          "text": [
            "100%|██████████| 519/519 [00:05<00:00, 93.62it/s]\n",
            "100%|██████████| 223/223 [00:00<00:00, 317.56it/s]\n"
          ]
        },
        {
          "name": "stdout",
          "output_type": "stream",
          "text": [
            "epoch [8/30], train loss: 56.2853, test loss: 80.7633\n"
          ]
        },
        {
          "name": "stderr",
          "output_type": "stream",
          "text": [
            "100%|██████████| 519/519 [00:05<00:00, 95.26it/s]\n",
            "100%|██████████| 223/223 [00:00<00:00, 350.41it/s]\n"
          ]
        },
        {
          "name": "stdout",
          "output_type": "stream",
          "text": [
            "epoch [9/30], train loss: 51.8270, test loss: 98.8118\n"
          ]
        },
        {
          "name": "stderr",
          "output_type": "stream",
          "text": [
            "100%|██████████| 519/519 [00:05<00:00, 94.65it/s]\n",
            "100%|██████████| 223/223 [00:00<00:00, 314.79it/s]\n"
          ]
        },
        {
          "name": "stdout",
          "output_type": "stream",
          "text": [
            "epoch [10/30], train loss: 46.2101, test loss: 79.0480\n",
            "best model saved\n"
          ]
        },
        {
          "name": "stderr",
          "output_type": "stream",
          "text": [
            "100%|██████████| 519/519 [00:05<00:00, 94.94it/s]\n",
            "100%|██████████| 223/223 [00:00<00:00, 348.55it/s]\n"
          ]
        },
        {
          "name": "stdout",
          "output_type": "stream",
          "text": [
            "epoch [11/30], train loss: 46.1951, test loss: 74.0085\n",
            "best model saved\n"
          ]
        },
        {
          "name": "stderr",
          "output_type": "stream",
          "text": [
            "100%|██████████| 519/519 [00:05<00:00, 95.02it/s]\n",
            "100%|██████████| 223/223 [00:00<00:00, 329.63it/s]\n"
          ]
        },
        {
          "name": "stdout",
          "output_type": "stream",
          "text": [
            "epoch [12/30], train loss: 42.6412, test loss: 77.1309\n"
          ]
        },
        {
          "name": "stderr",
          "output_type": "stream",
          "text": [
            "100%|██████████| 519/519 [00:05<00:00, 94.50it/s]\n",
            "100%|██████████| 223/223 [00:00<00:00, 346.06it/s]\n"
          ]
        },
        {
          "name": "stdout",
          "output_type": "stream",
          "text": [
            "epoch [13/30], train loss: 39.5046, test loss: 88.2435\n"
          ]
        },
        {
          "name": "stderr",
          "output_type": "stream",
          "text": [
            "100%|██████████| 519/519 [00:05<00:00, 95.54it/s]\n",
            "100%|██████████| 223/223 [00:00<00:00, 327.14it/s]\n"
          ]
        },
        {
          "name": "stdout",
          "output_type": "stream",
          "text": [
            "epoch [14/30], train loss: 40.3408, test loss: 72.5954\n",
            "best model saved\n"
          ]
        },
        {
          "name": "stderr",
          "output_type": "stream",
          "text": [
            "100%|██████████| 519/519 [00:05<00:00, 94.04it/s]\n",
            "100%|██████████| 223/223 [00:00<00:00, 347.45it/s]\n"
          ]
        },
        {
          "name": "stdout",
          "output_type": "stream",
          "text": [
            "epoch [15/30], train loss: 36.7724, test loss: 71.6720\n",
            "best model saved\n"
          ]
        },
        {
          "name": "stderr",
          "output_type": "stream",
          "text": [
            "100%|██████████| 519/519 [00:05<00:00, 95.34it/s]\n",
            "100%|██████████| 223/223 [00:00<00:00, 349.03it/s]\n"
          ]
        },
        {
          "name": "stdout",
          "output_type": "stream",
          "text": [
            "epoch [16/30], train loss: 34.9595, test loss: 98.9506\n"
          ]
        },
        {
          "name": "stderr",
          "output_type": "stream",
          "text": [
            "100%|██████████| 519/519 [00:05<00:00, 93.78it/s]\n",
            "100%|██████████| 223/223 [00:00<00:00, 349.18it/s]\n"
          ]
        },
        {
          "name": "stdout",
          "output_type": "stream",
          "text": [
            "epoch [17/30], train loss: 35.7502, test loss: 69.0678\n",
            "best model saved\n"
          ]
        },
        {
          "name": "stderr",
          "output_type": "stream",
          "text": [
            "100%|██████████| 519/519 [00:05<00:00, 95.17it/s]\n",
            "100%|██████████| 223/223 [00:00<00:00, 347.79it/s]\n"
          ]
        },
        {
          "name": "stdout",
          "output_type": "stream",
          "text": [
            "epoch [18/30], train loss: 32.8938, test loss: 84.7113\n"
          ]
        },
        {
          "name": "stderr",
          "output_type": "stream",
          "text": [
            "100%|██████████| 519/519 [00:05<00:00, 93.90it/s]\n",
            "100%|██████████| 223/223 [00:00<00:00, 345.84it/s]\n"
          ]
        },
        {
          "name": "stdout",
          "output_type": "stream",
          "text": [
            "epoch [19/30], train loss: 34.1066, test loss: 92.6298\n"
          ]
        },
        {
          "name": "stderr",
          "output_type": "stream",
          "text": [
            "100%|██████████| 519/519 [00:05<00:00, 95.31it/s]\n",
            "100%|██████████| 223/223 [00:00<00:00, 347.20it/s]\n"
          ]
        },
        {
          "name": "stdout",
          "output_type": "stream",
          "text": [
            "epoch [20/30], train loss: 33.3829, test loss: 71.9364\n"
          ]
        },
        {
          "name": "stderr",
          "output_type": "stream",
          "text": [
            "100%|██████████| 519/519 [00:05<00:00, 93.76it/s]\n",
            "100%|██████████| 223/223 [00:00<00:00, 346.29it/s]\n"
          ]
        },
        {
          "name": "stdout",
          "output_type": "stream",
          "text": [
            "epoch [21/30], train loss: 31.8506, test loss: 72.7898\n"
          ]
        },
        {
          "name": "stderr",
          "output_type": "stream",
          "text": [
            "100%|██████████| 519/519 [00:05<00:00, 95.28it/s]\n",
            "100%|██████████| 223/223 [00:00<00:00, 349.38it/s]\n"
          ]
        },
        {
          "name": "stdout",
          "output_type": "stream",
          "text": [
            "epoch [22/30], train loss: 33.3725, test loss: 69.3997\n"
          ]
        },
        {
          "name": "stderr",
          "output_type": "stream",
          "text": [
            "100%|██████████| 519/519 [00:05<00:00, 94.26it/s]\n",
            "100%|██████████| 223/223 [00:00<00:00, 319.01it/s]\n"
          ]
        },
        {
          "name": "stdout",
          "output_type": "stream",
          "text": [
            "epoch [23/30], train loss: 30.0095, test loss: 68.8473\n",
            "best model saved\n"
          ]
        },
        {
          "name": "stderr",
          "output_type": "stream",
          "text": [
            "100%|██████████| 519/519 [00:05<00:00, 94.86it/s]\n",
            "100%|██████████| 223/223 [00:00<00:00, 350.58it/s]\n"
          ]
        },
        {
          "name": "stdout",
          "output_type": "stream",
          "text": [
            "epoch [24/30], train loss: 31.2274, test loss: 67.8332\n",
            "best model saved\n"
          ]
        },
        {
          "name": "stderr",
          "output_type": "stream",
          "text": [
            "100%|██████████| 519/519 [00:05<00:00, 94.49it/s]\n",
            "100%|██████████| 223/223 [00:00<00:00, 321.50it/s]\n"
          ]
        },
        {
          "name": "stdout",
          "output_type": "stream",
          "text": [
            "epoch [25/30], train loss: 29.7915, test loss: 86.2159\n"
          ]
        },
        {
          "name": "stderr",
          "output_type": "stream",
          "text": [
            "100%|██████████| 519/519 [00:05<00:00, 94.78it/s]\n",
            "100%|██████████| 223/223 [00:00<00:00, 349.31it/s]\n"
          ]
        },
        {
          "name": "stdout",
          "output_type": "stream",
          "text": [
            "epoch [26/30], train loss: 30.1447, test loss: 73.2816\n"
          ]
        },
        {
          "name": "stderr",
          "output_type": "stream",
          "text": [
            "100%|██████████| 519/519 [00:05<00:00, 94.96it/s]\n",
            "100%|██████████| 223/223 [00:00<00:00, 317.06it/s]\n"
          ]
        },
        {
          "name": "stdout",
          "output_type": "stream",
          "text": [
            "epoch [27/30], train loss: 29.9289, test loss: 95.1628\n"
          ]
        },
        {
          "name": "stderr",
          "output_type": "stream",
          "text": [
            "100%|██████████| 519/519 [00:05<00:00, 94.30it/s]\n",
            "100%|██████████| 223/223 [00:00<00:00, 351.45it/s]\n"
          ]
        },
        {
          "name": "stdout",
          "output_type": "stream",
          "text": [
            "epoch [28/30], train loss: 29.9257, test loss: 71.6016\n"
          ]
        },
        {
          "name": "stderr",
          "output_type": "stream",
          "text": [
            "100%|██████████| 519/519 [00:05<00:00, 95.34it/s]\n",
            "100%|██████████| 223/223 [00:00<00:00, 333.23it/s]\n"
          ]
        },
        {
          "name": "stdout",
          "output_type": "stream",
          "text": [
            "epoch [29/30], train loss: 27.4602, test loss: 69.3614\n"
          ]
        },
        {
          "name": "stderr",
          "output_type": "stream",
          "text": [
            "100%|██████████| 519/519 [00:05<00:00, 93.95it/s]\n",
            "100%|██████████| 223/223 [00:00<00:00, 349.09it/s]"
          ]
        },
        {
          "name": "stdout",
          "output_type": "stream",
          "text": [
            "epoch [30/30], train loss: 29.6125, test loss: 69.3165\n"
          ]
        },
        {
          "name": "stderr",
          "output_type": "stream",
          "text": [
            "\n"
          ]
        }
      ],
      "source": [
        "optimizer = torch.optim.Adam(model.parameters(), lr=0.001)\n",
        "loss_fn = nn.MSELoss()\n",
        "n_epochs = 30\n",
        "best_test_loss = float('inf')\n",
        "\n",
        "for epoch in range(n_epochs):\n",
        "    model.train()\n",
        "    loss_train = 0\n",
        "    for images, labels in tqdm(train_loader):\n",
        "        images, labels = images.to(device), labels.to(device)\n",
        "\n",
        "        pred = model(images)\n",
        "        loss = loss_fn(pred, labels)\n",
        "        loss_train += loss.item()\n",
        "        loss.backward()\n",
        "\n",
        "        optimizer.step()\n",
        "        optimizer.zero_grad()\n",
        "\n",
        "    loss_train /= len(train_loader)\n",
        "\n",
        "    model.eval()\n",
        "    with torch.no_grad():\n",
        "        loss_test = 0\n",
        "        for images, labels in tqdm(test_loader):\n",
        "            images, labels = images.to(device), labels.to(device)\n",
        "\n",
        "            pred = model(images)\n",
        "            loss = loss_fn(pred, labels)\n",
        "            loss_test += loss.item()\n",
        "\n",
        "    loss_test /= len(test_loader)\n",
        "\n",
        "    print(f'epoch [{epoch + 1}/{n_epochs}], train loss: {loss_train:.4f}, test loss: {loss_test:.4f}')\n",
        "\n",
        "    if loss_test <= best_test_loss:\n",
        "        best_test_loss = loss_test\n",
        "        torch.save(model, 'age_model.pth')\n",
        "        print('best model saved')"
      ]
    },
    {
      "cell_type": "code",
      "execution_count": null,
      "metadata": {
        "id": "CrWLt7183Qgy"
      },
      "outputs": [],
      "source": []
    }
  ],
  "metadata": {
    "accelerator": "GPU",
    "colab": {
      "gpuType": "T4",
      "provenance": []
    },
    "kernelspec": {
      "display_name": "Python 3",
      "name": "python3"
    },
    "language_info": {
      "codemirror_mode": {
        "name": "ipython",
        "version": 3
      },
      "file_extension": ".py",
      "mimetype": "text/x-python",
      "name": "python",
      "nbconvert_exporter": "python",
      "pygments_lexer": "ipython3",
      "version": "3.12.3"
    }
  },
  "nbformat": 4,
  "nbformat_minor": 0
}
