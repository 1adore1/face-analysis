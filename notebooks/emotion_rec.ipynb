{
  "cells": [
    {
      "cell_type": "code",
      "execution_count": null,
      "metadata": {
        "id": "r52qXP7AqdNM"
      },
      "outputs": [],
      "source": [
        "import torch\n",
        "import torchvision\n",
        "from torch import nn\n",
        "import torch.nn.functional as F\n",
        "from torch.utils.data import TensorDataset, DataLoader\n",
        "import pandas as pd\n",
        "import numpy as np\n",
        "from tqdm import tqdm"
      ]
    },
    {
      "cell_type": "code",
      "execution_count": null,
      "metadata": {
        "colab": {
          "base_uri": "https://localhost:8080/"
        },
        "id": "A1Or5A_-qdNQ",
        "outputId": "c5c371d3-ebdd-483b-b34a-3832e741ca3c"
      },
      "outputs": [
        {
          "name": "stdout",
          "output_type": "stream",
          "text": [
            "Mounted at /content/gdrive\n"
          ]
        }
      ],
      "source": [
        "from google.colab import drive\n",
        "drive.mount('/content/gdrive')"
      ]
    },
    {
      "cell_type": "code",
      "execution_count": null,
      "metadata": {
        "id": "7MDT54gGvAqU"
      },
      "outputs": [],
      "source": [
        "device = torch.device('cuda')"
      ]
    },
    {
      "cell_type": "code",
      "execution_count": null,
      "metadata": {
        "id": "xPXdGSlUqdNT"
      },
      "outputs": [],
      "source": [
        "df = pd.read_csv('/content/gdrive/My Drive/fer2013.csv')\n",
        "\n",
        "df['pixels'] = df['pixels'].apply(lambda x: np.fromstring(x, sep=' ', dtype='float32'))\n",
        "\n",
        "\n",
        "train_df = df[df['Usage'] == 'Training']\n",
        "test_df = df[df['Usage'] != 'Training']\n",
        "\n",
        "X_train = torch.from_numpy(np.vstack(train_df['pixels'].values / 255)).view(-1, 48, 48).unsqueeze(1)\n",
        "X_test = torch.from_numpy(np.vstack(test_df['pixels'].values / 255)).view(-1, 48, 48).unsqueeze(1)\n",
        "\n",
        "y_train = torch.from_numpy(train_df['emotion'].values)\n",
        "y_test = torch.from_numpy(test_df['emotion'].values)\n",
        "\n",
        "y_train = F.one_hot(y_train, num_classes=7).float()\n",
        "y_test = F.one_hot(y_test, num_classes=7).float()"
      ]
    },
    {
      "cell_type": "code",
      "execution_count": null,
      "metadata": {
        "id": "leGfA3D2qdNW"
      },
      "outputs": [],
      "source": [
        "train_dataset = TensorDataset(X_train, y_train)\n",
        "test_dataset = TensorDataset(X_test, y_test)\n",
        "\n",
        "train_loader = DataLoader(train_dataset, batch_size=32, shuffle=True)\n",
        "test_loader = DataLoader(test_dataset, batch_size=32, shuffle=False)"
      ]
    },
    {
      "cell_type": "code",
      "execution_count": null,
      "metadata": {
        "colab": {
          "base_uri": "https://localhost:8080/"
        },
        "id": "qWl2o6xdqdNX",
        "outputId": "02d958e9-8a6d-41d1-eb54-c375c1cee4ea"
      },
      "outputs": [
        {
          "name": "stdout",
          "output_type": "stream",
          "text": [
            "torch.Size([32, 1, 48, 48]) torch.Size([32, 7])\n"
          ]
        }
      ],
      "source": [
        "for img, label in train_loader:\n",
        "    print(img.shape, label.shape)\n",
        "    break"
      ]
    },
    {
      "cell_type": "code",
      "execution_count": null,
      "metadata": {
        "id": "D59kyOhiqdNY"
      },
      "outputs": [],
      "source": [
        "classes = ['Angry', 'Disgust', 'Fear', 'Happy', 'Sad', 'Surprise', 'Neutral']"
      ]
    },
    {
      "cell_type": "code",
      "execution_count": null,
      "metadata": {
        "colab": {
          "base_uri": "https://localhost:8080/"
        },
        "id": "HD1VdIM_qdNZ",
        "outputId": "4bc43e71-a9df-4596-a48a-f41e6697f83d"
      },
      "outputs": [
        {
          "data": {
            "text/plain": [
              "Sequential(\n",
              "  (0): Conv2d(1, 64, kernel_size=(3, 3), stride=(1, 1), padding=(1, 1))\n",
              "  (1): BatchNorm2d(64, eps=1e-05, momentum=0.1, affine=True, track_running_stats=True)\n",
              "  (2): ReLU()\n",
              "  (3): MaxPool2d(kernel_size=2, stride=2, padding=0, dilation=1, ceil_mode=False)\n",
              "  (4): Conv2d(64, 128, kernel_size=(3, 3), stride=(1, 1), padding=(1, 1))\n",
              "  (5): BatchNorm2d(128, eps=1e-05, momentum=0.1, affine=True, track_running_stats=True)\n",
              "  (6): ReLU()\n",
              "  (7): MaxPool2d(kernel_size=2, stride=2, padding=0, dilation=1, ceil_mode=False)\n",
              "  (8): Conv2d(128, 256, kernel_size=(3, 3), stride=(1, 1), padding=(1, 1))\n",
              "  (9): BatchNorm2d(256, eps=1e-05, momentum=0.1, affine=True, track_running_stats=True)\n",
              "  (10): ReLU()\n",
              "  (11): MaxPool2d(kernel_size=2, stride=2, padding=0, dilation=1, ceil_mode=False)\n",
              "  (12): Flatten(start_dim=1, end_dim=-1)\n",
              "  (13): Linear(in_features=9216, out_features=1024, bias=True)\n",
              "  (14): BatchNorm1d(1024, eps=1e-05, momentum=0.1, affine=True, track_running_stats=True)\n",
              "  (15): ReLU()\n",
              "  (16): Dropout(p=0.5, inplace=False)\n",
              "  (17): Linear(in_features=1024, out_features=512, bias=True)\n",
              "  (18): BatchNorm1d(512, eps=1e-05, momentum=0.1, affine=True, track_running_stats=True)\n",
              "  (19): ReLU()\n",
              "  (20): Dropout(p=0.5, inplace=False)\n",
              "  (21): Linear(in_features=512, out_features=7, bias=True)\n",
              "  (22): Softmax(dim=1)\n",
              ")"
            ]
          },
          "execution_count": 8,
          "metadata": {},
          "output_type": "execute_result"
        }
      ],
      "source": [
        "model = nn.Sequential(\n",
        "    nn.Conv2d(in_channels=1, out_channels=64, kernel_size=3, padding=1),\n",
        "    nn.BatchNorm2d(64),\n",
        "    nn.ReLU(),\n",
        "    nn.MaxPool2d(kernel_size=2, stride=2),\n",
        "\n",
        "    nn.Conv2d(in_channels=64, out_channels=128, kernel_size=3, padding=1),\n",
        "    nn.BatchNorm2d(128),\n",
        "    nn.ReLU(),\n",
        "    nn.MaxPool2d(kernel_size=2, stride=2),\n",
        "\n",
        "    nn.Conv2d(in_channels=128, out_channels=256, kernel_size=3, padding=1),\n",
        "    nn.BatchNorm2d(256),\n",
        "    nn.ReLU(),\n",
        "    nn.MaxPool2d(kernel_size=2, stride=2),\n",
        "\n",
        "    nn.Flatten(),\n",
        "\n",
        "    nn.Linear(256 * 6 * 6, 1024),\n",
        "    nn.BatchNorm1d(1024),\n",
        "    nn.ReLU(),\n",
        "    nn.Dropout(0.5),\n",
        "\n",
        "    nn.Linear(1024, 512),\n",
        "    nn.BatchNorm1d(512),\n",
        "    nn.ReLU(),\n",
        "    nn.Dropout(0.5),\n",
        "\n",
        "    nn.Linear(512, 7),\n",
        "    nn.Softmax(dim=1),\n",
        ")\n",
        "\n",
        "model.to(device)"
      ]
    },
    {
      "cell_type": "code",
      "execution_count": null,
      "metadata": {
        "colab": {
          "base_uri": "https://localhost:8080/"
        },
        "id": "f2OC4qkSqdNa",
        "outputId": "3b90fc34-1f06-4d63-d0db-d9db2ef42fdd"
      },
      "outputs": [
        {
          "name": "stderr",
          "output_type": "stream",
          "text": [
            "100%|██████████| 898/898 [00:09<00:00, 95.56it/s] \n",
            "100%|██████████| 225/225 [00:00<00:00, 405.84it/s]\n"
          ]
        },
        {
          "name": "stdout",
          "output_type": "stream",
          "text": [
            "epoch [1/30], train acc: 39.0%, test acc: 44.9%\n",
            "best model saved\n"
          ]
        },
        {
          "name": "stderr",
          "output_type": "stream",
          "text": [
            "100%|██████████| 898/898 [00:08<00:00, 111.71it/s]\n",
            "100%|██████████| 225/225 [00:00<00:00, 414.80it/s]\n"
          ]
        },
        {
          "name": "stdout",
          "output_type": "stream",
          "text": [
            "epoch [2/30], train acc: 47.5%, test acc: 49.1%\n",
            "best model saved\n"
          ]
        },
        {
          "name": "stderr",
          "output_type": "stream",
          "text": [
            "100%|██████████| 898/898 [00:07<00:00, 113.29it/s]\n",
            "100%|██████████| 225/225 [00:00<00:00, 406.30it/s]\n"
          ]
        },
        {
          "name": "stdout",
          "output_type": "stream",
          "text": [
            "epoch [3/30], train acc: 50.7%, test acc: 51.3%\n",
            "best model saved\n"
          ]
        },
        {
          "name": "stderr",
          "output_type": "stream",
          "text": [
            "100%|██████████| 898/898 [00:07<00:00, 113.64it/s]\n",
            "100%|██████████| 225/225 [00:00<00:00, 389.65it/s]\n"
          ]
        },
        {
          "name": "stdout",
          "output_type": "stream",
          "text": [
            "epoch [4/30], train acc: 53.5%, test acc: 50.9%\n"
          ]
        },
        {
          "name": "stderr",
          "output_type": "stream",
          "text": [
            "100%|██████████| 898/898 [00:07<00:00, 114.49it/s]\n",
            "100%|██████████| 225/225 [00:00<00:00, 407.48it/s]\n"
          ]
        },
        {
          "name": "stdout",
          "output_type": "stream",
          "text": [
            "epoch [5/30], train acc: 55.5%, test acc: 53.0%\n",
            "best model saved\n"
          ]
        },
        {
          "name": "stderr",
          "output_type": "stream",
          "text": [
            "100%|██████████| 898/898 [00:08<00:00, 106.22it/s]\n",
            "100%|██████████| 225/225 [00:00<00:00, 405.98it/s]\n"
          ]
        },
        {
          "name": "stdout",
          "output_type": "stream",
          "text": [
            "epoch [6/30], train acc: 57.2%, test acc: 53.7%\n",
            "best model saved\n"
          ]
        },
        {
          "name": "stderr",
          "output_type": "stream",
          "text": [
            "100%|██████████| 898/898 [00:07<00:00, 113.23it/s]\n",
            "100%|██████████| 225/225 [00:00<00:00, 385.33it/s]\n"
          ]
        },
        {
          "name": "stdout",
          "output_type": "stream",
          "text": [
            "epoch [7/30], train acc: 59.4%, test acc: 53.8%\n",
            "best model saved\n"
          ]
        },
        {
          "name": "stderr",
          "output_type": "stream",
          "text": [
            "100%|██████████| 898/898 [00:07<00:00, 112.36it/s]\n",
            "100%|██████████| 225/225 [00:00<00:00, 407.89it/s]\n"
          ]
        },
        {
          "name": "stdout",
          "output_type": "stream",
          "text": [
            "epoch [8/30], train acc: 60.4%, test acc: 54.4%\n",
            "best model saved\n"
          ]
        },
        {
          "name": "stderr",
          "output_type": "stream",
          "text": [
            "100%|██████████| 898/898 [00:08<00:00, 111.50it/s]\n",
            "100%|██████████| 225/225 [00:00<00:00, 405.76it/s]\n"
          ]
        },
        {
          "name": "stdout",
          "output_type": "stream",
          "text": [
            "epoch [9/30], train acc: 61.8%, test acc: 55.9%\n",
            "best model saved\n"
          ]
        },
        {
          "name": "stderr",
          "output_type": "stream",
          "text": [
            "100%|██████████| 898/898 [00:08<00:00, 106.70it/s]\n",
            "100%|██████████| 225/225 [00:00<00:00, 380.27it/s]\n"
          ]
        },
        {
          "name": "stdout",
          "output_type": "stream",
          "text": [
            "epoch [10/30], train acc: 63.8%, test acc: 54.5%\n"
          ]
        },
        {
          "name": "stderr",
          "output_type": "stream",
          "text": [
            "100%|██████████| 898/898 [00:08<00:00, 110.81it/s]\n",
            "100%|██████████| 225/225 [00:00<00:00, 400.89it/s]\n"
          ]
        },
        {
          "name": "stdout",
          "output_type": "stream",
          "text": [
            "epoch [11/30], train acc: 65.0%, test acc: 55.7%\n"
          ]
        },
        {
          "name": "stderr",
          "output_type": "stream",
          "text": [
            "100%|██████████| 898/898 [00:08<00:00, 110.00it/s]\n",
            "100%|██████████| 225/225 [00:00<00:00, 396.47it/s]\n"
          ]
        },
        {
          "name": "stdout",
          "output_type": "stream",
          "text": [
            "epoch [12/30], train acc: 66.1%, test acc: 56.1%\n",
            "best model saved\n"
          ]
        },
        {
          "name": "stderr",
          "output_type": "stream",
          "text": [
            "100%|██████████| 898/898 [00:08<00:00, 109.30it/s]\n",
            "100%|██████████| 225/225 [00:00<00:00, 226.81it/s]\n"
          ]
        },
        {
          "name": "stdout",
          "output_type": "stream",
          "text": [
            "epoch [13/30], train acc: 67.3%, test acc: 56.6%\n",
            "best model saved\n"
          ]
        },
        {
          "name": "stderr",
          "output_type": "stream",
          "text": [
            "100%|██████████| 898/898 [00:08<00:00, 108.66it/s]\n",
            "100%|██████████| 225/225 [00:00<00:00, 393.67it/s]\n"
          ]
        },
        {
          "name": "stdout",
          "output_type": "stream",
          "text": [
            "epoch [14/30], train acc: 68.2%, test acc: 56.8%\n",
            "best model saved\n"
          ]
        },
        {
          "name": "stderr",
          "output_type": "stream",
          "text": [
            "100%|██████████| 898/898 [00:08<00:00, 107.95it/s]\n",
            "100%|██████████| 225/225 [00:00<00:00, 394.02it/s]\n"
          ]
        },
        {
          "name": "stdout",
          "output_type": "stream",
          "text": [
            "epoch [15/30], train acc: 69.7%, test acc: 56.4%\n"
          ]
        },
        {
          "name": "stderr",
          "output_type": "stream",
          "text": [
            "100%|██████████| 898/898 [00:08<00:00, 110.17it/s]\n",
            "100%|██████████| 225/225 [00:00<00:00, 378.41it/s]\n"
          ]
        },
        {
          "name": "stdout",
          "output_type": "stream",
          "text": [
            "epoch [16/30], train acc: 70.8%, test acc: 58.5%\n",
            "best model saved\n"
          ]
        },
        {
          "name": "stderr",
          "output_type": "stream",
          "text": [
            "100%|██████████| 898/898 [00:08<00:00, 107.26it/s]\n",
            "100%|██████████| 225/225 [00:00<00:00, 400.05it/s]\n"
          ]
        },
        {
          "name": "stdout",
          "output_type": "stream",
          "text": [
            "epoch [17/30], train acc: 72.1%, test acc: 57.8%\n"
          ]
        },
        {
          "name": "stderr",
          "output_type": "stream",
          "text": [
            "100%|██████████| 898/898 [00:08<00:00, 109.69it/s]\n",
            "100%|██████████| 225/225 [00:00<00:00, 396.75it/s]\n"
          ]
        },
        {
          "name": "stdout",
          "output_type": "stream",
          "text": [
            "epoch [18/30], train acc: 72.6%, test acc: 56.9%\n"
          ]
        },
        {
          "name": "stderr",
          "output_type": "stream",
          "text": [
            "100%|██████████| 898/898 [00:08<00:00, 111.26it/s]\n",
            "100%|██████████| 225/225 [00:00<00:00, 399.63it/s]\n"
          ]
        },
        {
          "name": "stdout",
          "output_type": "stream",
          "text": [
            "epoch [19/30], train acc: 74.0%, test acc: 58.2%\n"
          ]
        },
        {
          "name": "stderr",
          "output_type": "stream",
          "text": [
            "100%|██████████| 898/898 [00:08<00:00, 109.60it/s]\n",
            "100%|██████████| 225/225 [00:00<00:00, 398.00it/s]\n"
          ]
        },
        {
          "name": "stdout",
          "output_type": "stream",
          "text": [
            "epoch [20/30], train acc: 74.8%, test acc: 58.5%\n"
          ]
        },
        {
          "name": "stderr",
          "output_type": "stream",
          "text": [
            "100%|██████████| 898/898 [00:08<00:00, 107.23it/s]\n",
            "100%|██████████| 225/225 [00:00<00:00, 381.25it/s]\n"
          ]
        },
        {
          "name": "stdout",
          "output_type": "stream",
          "text": [
            "epoch [21/30], train acc: 76.0%, test acc: 56.8%\n"
          ]
        },
        {
          "name": "stderr",
          "output_type": "stream",
          "text": [
            "100%|██████████| 898/898 [00:08<00:00, 106.86it/s]\n",
            "100%|██████████| 225/225 [00:00<00:00, 397.85it/s]\n"
          ]
        },
        {
          "name": "stdout",
          "output_type": "stream",
          "text": [
            "epoch [22/30], train acc: 76.2%, test acc: 58.6%\n",
            "best model saved\n"
          ]
        },
        {
          "name": "stderr",
          "output_type": "stream",
          "text": [
            "100%|██████████| 898/898 [00:08<00:00, 109.35it/s]\n",
            "100%|██████████| 225/225 [00:00<00:00, 396.32it/s]\n"
          ]
        },
        {
          "name": "stdout",
          "output_type": "stream",
          "text": [
            "epoch [23/30], train acc: 77.3%, test acc: 58.3%\n"
          ]
        },
        {
          "name": "stderr",
          "output_type": "stream",
          "text": [
            "100%|██████████| 898/898 [00:09<00:00, 92.49it/s]\n",
            "100%|██████████| 225/225 [00:00<00:00, 267.85it/s]\n"
          ]
        },
        {
          "name": "stdout",
          "output_type": "stream",
          "text": [
            "epoch [24/30], train acc: 78.2%, test acc: 58.5%\n"
          ]
        },
        {
          "name": "stderr",
          "output_type": "stream",
          "text": [
            "100%|██████████| 898/898 [00:08<00:00, 110.38it/s]\n",
            "100%|██████████| 225/225 [00:00<00:00, 398.41it/s]\n"
          ]
        },
        {
          "name": "stdout",
          "output_type": "stream",
          "text": [
            "epoch [25/30], train acc: 79.0%, test acc: 58.5%\n"
          ]
        },
        {
          "name": "stderr",
          "output_type": "stream",
          "text": [
            "100%|██████████| 898/898 [00:08<00:00, 109.55it/s]\n",
            "100%|██████████| 225/225 [00:00<00:00, 396.11it/s]\n"
          ]
        },
        {
          "name": "stdout",
          "output_type": "stream",
          "text": [
            "epoch [26/30], train acc: 79.7%, test acc: 58.6%\n",
            "best model saved\n"
          ]
        },
        {
          "name": "stderr",
          "output_type": "stream",
          "text": [
            "100%|██████████| 898/898 [00:08<00:00, 109.65it/s]\n",
            "100%|██████████| 225/225 [00:00<00:00, 382.14it/s]\n"
          ]
        },
        {
          "name": "stdout",
          "output_type": "stream",
          "text": [
            "epoch [27/30], train acc: 80.3%, test acc: 57.8%\n"
          ]
        },
        {
          "name": "stderr",
          "output_type": "stream",
          "text": [
            "100%|██████████| 898/898 [00:08<00:00, 105.71it/s]\n",
            "100%|██████████| 225/225 [00:00<00:00, 397.74it/s]\n"
          ]
        },
        {
          "name": "stdout",
          "output_type": "stream",
          "text": [
            "epoch [28/30], train acc: 80.7%, test acc: 58.4%\n"
          ]
        },
        {
          "name": "stderr",
          "output_type": "stream",
          "text": [
            "100%|██████████| 898/898 [00:08<00:00, 109.34it/s]\n",
            "100%|██████████| 225/225 [00:00<00:00, 395.81it/s]\n"
          ]
        },
        {
          "name": "stdout",
          "output_type": "stream",
          "text": [
            "epoch [29/30], train acc: 81.4%, test acc: 59.1%\n",
            "best model saved\n"
          ]
        },
        {
          "name": "stderr",
          "output_type": "stream",
          "text": [
            "100%|██████████| 898/898 [00:08<00:00, 109.98it/s]\n",
            "100%|██████████| 225/225 [00:00<00:00, 371.91it/s]"
          ]
        },
        {
          "name": "stdout",
          "output_type": "stream",
          "text": [
            "epoch [30/30], train acc: 82.3%, test acc: 58.2%\n"
          ]
        },
        {
          "name": "stderr",
          "output_type": "stream",
          "text": [
            "\n"
          ]
        }
      ],
      "source": [
        "optimizer = torch.optim.SGD(model.parameters(), lr=0.01, momentum=0.9, weight_decay=1e-4)\n",
        "loss_fn = nn.CrossEntropyLoss()\n",
        "n_epochs = 30\n",
        "best_val_acc = 0\n",
        "\n",
        "for epoch in range(n_epochs):\n",
        "    model.train()\n",
        "    correct = 0\n",
        "    total = 0\n",
        "    for images, labels in tqdm(train_loader):\n",
        "        images, labels = images.to(device), labels.to(device)\n",
        "\n",
        "        pred = model(images)\n",
        "        loss = loss_fn(pred, labels)\n",
        "        loss.backward()\n",
        "\n",
        "        optimizer.step()\n",
        "        optimizer.zero_grad()\n",
        "\n",
        "        correct += (pred.argmax(1) == labels.argmax(1)).sum()\n",
        "        total += labels.size(0)\n",
        "    train_acc = correct / total\n",
        "\n",
        "    model.eval()\n",
        "    with torch.no_grad():\n",
        "        correct = 0\n",
        "        total = 0\n",
        "        for images, labels in tqdm(test_loader):\n",
        "            images, labels = images.to(device), labels.to(device)\n",
        "\n",
        "            pred = model(images)\n",
        "            loss = loss_fn(pred, labels)\n",
        "\n",
        "            correct += (pred.argmax(1) == labels.argmax(1)).sum()\n",
        "            total += labels.size(0)\n",
        "    test_acc = correct / total\n",
        "\n",
        "    print(f'epoch [{epoch + 1}/{n_epochs}], train acc: {train_acc * 100:.1f}%, test acc: {test_acc * 100:.1f}%')\n",
        "\n",
        "    if test_acc >= best_val_acc:\n",
        "        best_val_acc = test_acc\n",
        "        torch.save(model, 'emotion_model.pth')\n",
        "        print('best model saved')"
      ]
    },
    {
      "cell_type": "code",
      "execution_count": null,
      "metadata": {
        "id": "IXkcEf4XqdNc"
      },
      "outputs": [],
      "source": []
    }
  ],
  "metadata": {
    "accelerator": "GPU",
    "colab": {
      "gpuType": "T4",
      "provenance": []
    },
    "kernelspec": {
      "display_name": "Python 3",
      "name": "python3"
    },
    "language_info": {
      "codemirror_mode": {
        "name": "ipython",
        "version": 3
      },
      "file_extension": ".py",
      "mimetype": "text/x-python",
      "name": "python",
      "nbconvert_exporter": "python",
      "pygments_lexer": "ipython3",
      "version": "3.12.0"
    }
  },
  "nbformat": 4,
  "nbformat_minor": 0
}
